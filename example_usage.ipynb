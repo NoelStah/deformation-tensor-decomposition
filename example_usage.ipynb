{
 "cells": [
  {
   "cell_type": "markdown",
   "metadata": {},
   "source": [
    "# Setup of Packages and the Deformation Tensor\n",
    "This is a small demo of how to use the deformation tensor tools provided in this package in Python. Firstly, we need to import the *SymPy* package and and the *deformation_tensor_tools* package as follows:"
   ]
  },
  {
   "cell_type": "code",
   "execution_count": 2,
   "metadata": {},
   "outputs": [],
   "source": [
    "import sympy as sp\n",
    "import deformation_tensor_tools as dtools"
   ]
  },
  {
   "cell_type": "markdown",
   "metadata": {},
   "source": [
    "Now we can define a deformation tensor as a *SymPy*-Matrix with symbols and numbers as its elements. As an example, we define the tensor\n",
    "$$\\frac{\\partial u_i}{\\partial x_j} = \\begin{pmatrix}\\alpha&\\beta&0\\\\0&0&\\gamma\\\\0&0&0\\end{pmatrix},$$\n",
    "where $\\alpha$, $\\beta$, and $\\gamma$ are some arbitrary parameters:"
   ]
  },
  {
   "cell_type": "code",
   "execution_count": 3,
   "metadata": {},
   "outputs": [
    {
     "data": {
      "text/latex": [
       "$\\displaystyle \\left[\\begin{matrix}\\alpha & \\beta & 0\\\\0 & 0 & \\gamma\\\\0 & 0 & 0\\end{matrix}\\right]$"
      ],
      "text/plain": [
       "Matrix([\n",
       "[\\alpha, \\beta,      0],\n",
       "[     0,     0, \\gamma],\n",
       "[     0,     0,      0]])"
      ]
     },
     "execution_count": 3,
     "metadata": {},
     "output_type": "execute_result"
    }
   ],
   "source": [
    "alpha, beta, gamma = sp.symbols(r'\\alpha \\beta \\gamma')\n",
    "deformation_tensor = sp.Matrix([[alpha, beta, 0], [0, 0, gamma], [0, 0, 0]])\n",
    "deformation_tensor"
   ]
  },
  {
   "cell_type": "markdown",
   "metadata": {
    "tags": []
   },
   "source": [
    "# Usage of the Decomposition Tools\n",
    "## Rate-of-Strain Tensor\n",
    "With the deformation tensor defined as we did above, we can now use the functions of the *deformation_tensor_tools* package to carry out various operations on the deformation tensor. For example, we can determine the rate-of-strain tensor $\\epsilon$, which is the symetric part of the deformation tensor with the elements\n",
    "$$\\epsilon_{ij} = \\frac{1}{2}\\left(\\frac{\\partial u_i}{\\partial x_j}+\\frac{\\partial u_j}{\\partial x_i}\\right)$$\n",
    "as follows:"
   ]
  },
  {
   "cell_type": "code",
   "execution_count": 4,
   "metadata": {},
   "outputs": [
    {
     "data": {
      "text/latex": [
       "$\\displaystyle \\left[\\begin{matrix}\\alpha & \\frac{\\beta}{2} & 0\\\\\\frac{\\beta}{2} & 0 & \\frac{\\gamma}{2}\\\\0 & \\frac{\\gamma}{2} & 0\\end{matrix}\\right]$"
      ],
      "text/plain": [
       "Matrix([\n",
       "[ \\alpha,  \\beta/2,        0],\n",
       "[\\beta/2,        0, \\gamma/2],\n",
       "[      0, \\gamma/2,        0]])"
      ]
     },
     "execution_count": 4,
     "metadata": {},
     "output_type": "execute_result"
    }
   ],
   "source": [
    "ros_tensor = dtools.rate_of_strain_tensor(deformation_tensor)\n",
    "ros_tensor"
   ]
  },
  {
   "cell_type": "markdown",
   "metadata": {},
   "source": [
    "This rate-of-strain tensor can furthermore be devided into its volumetric part $\\epsilon^V$ with the elements\n",
    "$$\\epsilon^V_{ij} = \\frac{\\epsilon_{kk}}{3}\\delta_{ij},$$\n",
    "where $\\delta_{ij}$ represents the elements of the identity matrix:"
   ]
  },
  {
   "cell_type": "code",
   "execution_count": 5,
   "metadata": {},
   "outputs": [
    {
     "data": {
      "text/latex": [
       "$\\displaystyle \\left[\\begin{matrix}\\frac{\\alpha}{3} & 0 & 0\\\\0 & \\frac{\\alpha}{3} & 0\\\\0 & 0 & \\frac{\\alpha}{3}\\end{matrix}\\right]$"
      ],
      "text/plain": [
       "Matrix([\n",
       "[\\alpha/3,        0,        0],\n",
       "[       0, \\alpha/3,        0],\n",
       "[       0,        0, \\alpha/3]])"
      ]
     },
     "execution_count": 5,
     "metadata": {},
     "output_type": "execute_result"
    }
   ],
   "source": [
    "ros_tensor_vol = dtools.rate_of_strain_tensor_volumetric_part(deformation_tensor)\n",
    "ros_tensor_vol"
   ]
  },
  {
   "cell_type": "markdown",
   "metadata": {},
   "source": [
    "and its shear part $\\epsilon^S=\\epsilon-\\epsilon^V$ as follows:"
   ]
  },
  {
   "cell_type": "code",
   "execution_count": 6,
   "metadata": {},
   "outputs": [
    {
     "data": {
      "text/latex": [
       "$\\displaystyle \\left[\\begin{matrix}\\frac{2 \\alpha}{3} & \\frac{\\beta}{2} & 0\\\\\\frac{\\beta}{2} & - \\frac{\\alpha}{3} & \\frac{\\gamma}{2}\\\\0 & \\frac{\\gamma}{2} & - \\frac{\\alpha}{3}\\end{matrix}\\right]$"
      ],
      "text/plain": [
       "Matrix([\n",
       "[2*\\alpha/3,   \\beta/2,         0],\n",
       "[   \\beta/2, -\\alpha/3,  \\gamma/2],\n",
       "[         0,  \\gamma/2, -\\alpha/3]])"
      ]
     },
     "execution_count": 6,
     "metadata": {},
     "output_type": "execute_result"
    }
   ],
   "source": [
    "ros_tensor_shear = dtools.rate_of_strain_tensor_shear_part(deformation_tensor)\n",
    "ros_tensor_shear"
   ]
  },
  {
   "cell_type": "markdown",
   "metadata": {},
   "source": [
    "## Rotation Tensor\n",
    "Or we calculate the rotation tensor $\\omega$, which is the anti-symmetric part of the deformation tensor with the elements\n",
    "$$\\omega_{ij} = \\frac{1}{2}\\left(\\frac{\\partial u_i}{\\partial x_j}-\\frac{\\partial u_j}{\\partial x_i}\\right)$$\n",
    "as follows:"
   ]
  },
  {
   "cell_type": "code",
   "execution_count": 7,
   "metadata": {},
   "outputs": [
    {
     "data": {
      "text/latex": [
       "$\\displaystyle \\left[\\begin{matrix}0 & \\frac{\\beta}{2} & 0\\\\- \\frac{\\beta}{2} & 0 & \\frac{\\gamma}{2}\\\\0 & - \\frac{\\gamma}{2} & 0\\end{matrix}\\right]$"
      ],
      "text/plain": [
       "Matrix([\n",
       "[       0,   \\beta/2,        0],\n",
       "[-\\beta/2,         0, \\gamma/2],\n",
       "[       0, -\\gamma/2,        0]])"
      ]
     },
     "execution_count": 7,
     "metadata": {},
     "output_type": "execute_result"
    }
   ],
   "source": [
    "dtools.rotation_tensor(deformation_tensor)"
   ]
  },
  {
   "cell_type": "code",
   "execution_count": 8,
   "metadata": {},
   "outputs": [
    {
     "data": {
      "text/latex": [
       "$\\displaystyle \\left[\\begin{matrix}- \\frac{\\gamma}{\\beta} + \\frac{\\left(4 \\alpha^{2} - 2 \\alpha \\sqrt[3]{- 8 \\alpha^{3} - 9 \\alpha \\beta^{2} + 18 \\alpha \\gamma^{2} + \\sqrt{\\alpha^{2} \\left(- 8 \\alpha^{2} - 9 \\beta^{2} + 18 \\gamma^{2}\\right)^{2} - \\left(4 \\alpha^{2} + 3 \\beta^{2} + 3 \\gamma^{2}\\right)^{3}}} + 3 \\beta^{2} + 3 \\gamma^{2} + \\left(- 8 \\alpha^{3} - 9 \\alpha \\beta^{2} + 18 \\alpha \\gamma^{2} + \\sqrt{\\alpha^{2} \\left(- 8 \\alpha^{2} - 9 \\beta^{2} + 18 \\gamma^{2}\\right)^{2} - \\left(4 \\alpha^{2} + 3 \\beta^{2} + 3 \\gamma^{2}\\right)^{3}}\\right)^{\\frac{2}{3}}\\right)^{2}}{9 \\beta \\gamma \\left(- 8 \\alpha^{3} - 9 \\alpha \\beta^{2} + 18 \\alpha \\gamma^{2} + \\sqrt{\\alpha^{2} \\left(- 8 \\alpha^{2} - 9 \\beta^{2} + 18 \\gamma^{2}\\right)^{2} - \\left(4 \\alpha^{2} + 3 \\beta^{2} + 3 \\gamma^{2}\\right)^{3}}\\right)^{\\frac{2}{3}}}\\\\\\frac{- \\frac{4 \\alpha^{2}}{3} - \\beta^{2} - \\gamma^{2} + \\frac{\\left(2 \\alpha - \\sqrt[3]{- 8 \\alpha^{3} + 27 \\alpha \\gamma^{2} - 9 \\alpha \\left(\\beta^{2} + \\gamma^{2}\\right) + \\sqrt{\\alpha^{2} \\left(- 8 \\alpha^{2} - 9 \\beta^{2} + 18 \\gamma^{2}\\right)^{2} - \\left(4 \\alpha^{2} + 3 \\beta^{2} + 3 \\gamma^{2}\\right)^{3}}}\\right) \\sqrt[3]{- 8 \\alpha^{3} + 27 \\alpha \\gamma^{2} - 9 \\alpha \\left(\\beta^{2} + \\gamma^{2}\\right) + \\sqrt{\\alpha^{2} \\left(- 8 \\alpha^{2} - 9 \\beta^{2} + 18 \\gamma^{2}\\right)^{2} - \\left(4 \\alpha^{2} + 3 \\beta^{2} + 3 \\gamma^{2}\\right)^{3}}}}{3}}{\\gamma \\sqrt[3]{- 8 \\alpha^{3} + 27 \\alpha \\gamma^{2} - 9 \\alpha \\left(\\beta^{2} + \\gamma^{2}\\right) + \\sqrt{\\alpha^{2} \\left(- 8 \\alpha^{2} - 9 \\beta^{2} + 18 \\gamma^{2}\\right)^{2} - \\left(4 \\alpha^{2} + 3 \\beta^{2} + 3 \\gamma^{2}\\right)^{3}}}}\\\\1\\end{matrix}\\right]$"
      ],
      "text/plain": [
       "Matrix([\n",
       "[                  -\\gamma/\\beta + (4*\\alpha**2 - 2*\\alpha*(-8*\\alpha**3 - 9*\\alpha*\\beta**2 + 18*\\alpha*\\gamma**2 + sqrt(\\alpha**2*(-8*\\alpha**2 - 9*\\beta**2 + 18*\\gamma**2)**2 - (4*\\alpha**2 + 3*\\beta**2 + 3*\\gamma**2)**3))**(1/3) + 3*\\beta**2 + 3*\\gamma**2 + (-8*\\alpha**3 - 9*\\alpha*\\beta**2 + 18*\\alpha*\\gamma**2 + sqrt(\\alpha**2*(-8*\\alpha**2 - 9*\\beta**2 + 18*\\gamma**2)**2 - (4*\\alpha**2 + 3*\\beta**2 + 3*\\gamma**2)**3))**(2/3))**2/(9*\\beta*\\gamma*(-8*\\alpha**3 - 9*\\alpha*\\beta**2 + 18*\\alpha*\\gamma**2 + sqrt(\\alpha**2*(-8*\\alpha**2 - 9*\\beta**2 + 18*\\gamma**2)**2 - (4*\\alpha**2 + 3*\\beta**2 + 3*\\gamma**2)**3))**(2/3))],\n",
       "[(-4*\\alpha**2/3 - \\beta**2 - \\gamma**2 + (2*\\alpha - (-8*\\alpha**3 + 27*\\alpha*\\gamma**2 - 9*\\alpha*(\\beta**2 + \\gamma**2) + sqrt(\\alpha**2*(-8*\\alpha**2 - 9*\\beta**2 + 18*\\gamma**2)**2 - (4*\\alpha**2 + 3*\\beta**2 + 3*\\gamma**2)**3))**(1/3))*(-8*\\alpha**3 + 27*\\alpha*\\gamma**2 - 9*\\alpha*(\\beta**2 + \\gamma**2) + sqrt(\\alpha**2*(-8*\\alpha**2 - 9*\\beta**2 + 18*\\gamma**2)**2 - (4*\\alpha**2 + 3*\\beta**2 + 3*\\gamma**2)**3))**(1/3)/3)/(\\gamma*(-8*\\alpha**3 + 27*\\alpha*\\gamma**2 - 9*\\alpha*(\\beta**2 + \\gamma**2) + sqrt(\\alpha**2*(-8*\\alpha**2 - 9*\\beta**2 + 18*\\gamma**2)**2 - (4*\\alpha**2 + 3*\\beta**2 + 3*\\gamma**2)**3))**(1/3))],\n",
       "[                                                                                                                                                                                                                                                                                                                                                                                                                                                                                                                                                                                                                                                    1]])"
      ]
     },
     "execution_count": 8,
     "metadata": {},
     "output_type": "execute_result"
    }
   ],
   "source": [
    "principle_axes = dtools.rate_of_strain_tensor_principle_axes(deformation_tensor)\n",
    "sp.simplify(principle_axes[0])"
   ]
  },
  {
   "cell_type": "code",
   "execution_count": 9,
   "metadata": {},
   "outputs": [
    {
     "data": {
      "text/latex": [
       "$\\displaystyle \\left[\\begin{matrix}0\\\\-1\\\\1\\end{matrix}\\right]$"
      ],
      "text/plain": [
       "Matrix([\n",
       "[ 0],\n",
       "[-1],\n",
       "[ 1]])"
      ]
     },
     "execution_count": 9,
     "metadata": {},
     "output_type": "execute_result"
    }
   ],
   "source": [
    "values = {alpha: 4, beta: 0, gamma: 4}\n",
    "num_deformation_tensor = deformation_tensor.subs(values)\n",
    "num_principle_axes = dtools.rate_of_strain_tensor_principle_axes(num_deformation_tensor)\n",
    "num_principle_axes[0]"
   ]
  },
  {
   "cell_type": "markdown",
   "metadata": {},
   "source": [
    "## Complete Decomposition"
   ]
  },
  {
   "cell_type": "markdown",
   "metadata": {},
   "source": [
    "## Substitution of Numerical Values for Parameters"
   ]
  },
  {
   "cell_type": "code",
   "execution_count": 11,
   "metadata": {},
   "outputs": [
    {
     "data": {
      "text/latex": [
       "$\\displaystyle \\left[\\begin{matrix}4 & 0 & 0\\\\0 & 0 & 4\\\\0 & 0 & 0\\end{matrix}\\right]$"
      ],
      "text/plain": [
       "Matrix([\n",
       "[4, 0, 0],\n",
       "[0, 0, 4],\n",
       "[0, 0, 0]])"
      ]
     },
     "execution_count": 11,
     "metadata": {},
     "output_type": "execute_result"
    }
   ],
   "source": [
    "num_values = {alpha: 4, beta: 0, gamma: 4}\n",
    "num_deformation_tensor = deformation_tensor.subs(values)\n",
    "num_deformation_tensor"
   ]
  },
  {
   "cell_type": "code",
   "execution_count": null,
   "metadata": {},
   "outputs": [],
   "source": []
  }
 ],
 "metadata": {
  "kernelspec": {
   "display_name": "Python 3 (ipykernel)",
   "language": "python",
   "name": "python3"
  },
  "language_info": {
   "codemirror_mode": {
    "name": "ipython",
    "version": 3
   },
   "file_extension": ".py",
   "mimetype": "text/x-python",
   "name": "python",
   "nbconvert_exporter": "python",
   "pygments_lexer": "ipython3",
   "version": "3.10.13"
  }
 },
 "nbformat": 4,
 "nbformat_minor": 4
}
