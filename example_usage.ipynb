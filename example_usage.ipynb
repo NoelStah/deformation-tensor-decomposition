{
 "cells": [
  {
   "cell_type": "markdown",
   "metadata": {},
   "source": [
    "# Setup of Packages and the Deformation Tensor\n",
    "This is a short demonstration of how to use the deformation tensor tools provided in this Python-package. First, we need to import the *SymPy* package and the *deformation_tensor_tools* package as follows:"
   ]
  },
  {
   "cell_type": "code",
   "execution_count": 1,
   "metadata": {},
   "outputs": [],
   "source": [
    "import sympy as sp\n",
    "import deformation_tensor_tools as dtools"
   ]
  },
  {
   "cell_type": "markdown",
   "metadata": {},
   "source": [
    "Now we can define a deformation tensor as a *SymPy*-Matrix with symbols and numbers as its elements. For example, we define the deformation tensor\n",
    "$$\\frac{\\partial u_i}{\\partial x_j} = \\begin{pmatrix}\\alpha&\\beta&0\\\\0&0&\\gamma\\\\0&0&0\\end{pmatrix},$$\n",
    "where $\\alpha$, $\\beta$, and $\\gamma$ are some arbitrary parameters:"
   ]
  },
  {
   "cell_type": "code",
   "execution_count": 2,
   "metadata": {},
   "outputs": [
    {
     "data": {
      "text/latex": [
       "$\\displaystyle \\left[\\begin{matrix}\\alpha & \\beta & 0\\\\0 & 0 & \\gamma\\\\0 & 0 & 0\\end{matrix}\\right]$"
      ],
      "text/plain": [
       "Matrix([\n",
       "[\\alpha, \\beta,      0],\n",
       "[     0,     0, \\gamma],\n",
       "[     0,     0,      0]])"
      ]
     },
     "execution_count": 2,
     "metadata": {},
     "output_type": "execute_result"
    }
   ],
   "source": [
    "alpha, beta, gamma = sp.symbols(r'\\alpha \\beta \\gamma')\n",
    "deformation_tensor = sp.Matrix([[alpha, beta, 0], [0, 0, gamma], [0, 0, 0]])\n",
    "deformation_tensor"
   ]
  },
  {
   "cell_type": "markdown",
   "metadata": {
    "tags": []
   },
   "source": [
    "# Usage of the Decomposition Tools\n",
    "## Rate-of-Strain Tensor\n",
    "With the deformation tensor defined as above, we can now use the functions from the *deformation_tensor_tools* package to perform various operations on the deformation tensor. For example, we can compute the rate-of-strain tensor $\\overleftrightarrow{\\epsilon}$, which is the symmetric part of the deformation tensor, with the elements \n",
    "$$\\epsilon_{ij} = \\frac{1}{2}\\left(\\frac{\\partial u_i}{\\partial x_j}+\\frac{\\partial u_j}{\\partial x_i}\\right),$$\n",
    "as follows:"
   ]
  },
  {
   "cell_type": "code",
   "execution_count": 3,
   "metadata": {},
   "outputs": [
    {
     "data": {
      "text/latex": [
       "$\\displaystyle \\left[\\begin{matrix}\\alpha & \\frac{\\beta}{2} & 0\\\\\\frac{\\beta}{2} & 0 & \\frac{\\gamma}{2}\\\\0 & \\frac{\\gamma}{2} & 0\\end{matrix}\\right]$"
      ],
      "text/plain": [
       "Matrix([\n",
       "[ \\alpha,  \\beta/2,        0],\n",
       "[\\beta/2,        0, \\gamma/2],\n",
       "[      0, \\gamma/2,        0]])"
      ]
     },
     "execution_count": 3,
     "metadata": {},
     "output_type": "execute_result"
    }
   ],
   "source": [
    "ros_tensor = dtools.rate_of_strain_tensor(deformation_tensor)\n",
    "ros_tensor"
   ]
  },
  {
   "cell_type": "markdown",
   "metadata": {},
   "source": [
    "This rate-of-strain tensor can furthermore be decomposed into its volumetric part $\\overleftrightarrow{\\epsilon}^V$ with the elements\n",
    "$$\\epsilon^V_{ij} = \\frac{\\epsilon_{kk}}{3}\\delta_{ij},$$\n",
    "where $\\delta_{ij}$ represents the elements of the identity matrix:"
   ]
  },
  {
   "cell_type": "code",
   "execution_count": 4,
   "metadata": {},
   "outputs": [
    {
     "data": {
      "text/latex": [
       "$\\displaystyle \\left[\\begin{matrix}\\frac{\\alpha}{3} & 0 & 0\\\\0 & \\frac{\\alpha}{3} & 0\\\\0 & 0 & \\frac{\\alpha}{3}\\end{matrix}\\right]$"
      ],
      "text/plain": [
       "Matrix([\n",
       "[\\alpha/3,        0,        0],\n",
       "[       0, \\alpha/3,        0],\n",
       "[       0,        0, \\alpha/3]])"
      ]
     },
     "execution_count": 4,
     "metadata": {},
     "output_type": "execute_result"
    }
   ],
   "source": [
    "ros_tensor_vol = dtools.rate_of_strain_tensor_volumetric_part(deformation_tensor)\n",
    "ros_tensor_vol"
   ]
  },
  {
   "cell_type": "markdown",
   "metadata": {},
   "source": [
    "and its shear part $\\overleftrightarrow{\\epsilon}^S=\\overleftrightarrow{\\epsilon}-\\overleftrightarrow{\\epsilon}^V$ as follows:"
   ]
  },
  {
   "cell_type": "code",
   "execution_count": 5,
   "metadata": {},
   "outputs": [
    {
     "data": {
      "text/latex": [
       "$\\displaystyle \\left[\\begin{matrix}\\frac{2 \\alpha}{3} & \\frac{\\beta}{2} & 0\\\\\\frac{\\beta}{2} & - \\frac{\\alpha}{3} & \\frac{\\gamma}{2}\\\\0 & \\frac{\\gamma}{2} & - \\frac{\\alpha}{3}\\end{matrix}\\right]$"
      ],
      "text/plain": [
       "Matrix([\n",
       "[2*\\alpha/3,   \\beta/2,         0],\n",
       "[   \\beta/2, -\\alpha/3,  \\gamma/2],\n",
       "[         0,  \\gamma/2, -\\alpha/3]])"
      ]
     },
     "execution_count": 5,
     "metadata": {},
     "output_type": "execute_result"
    }
   ],
   "source": [
    "ros_tensor_shear = dtools.rate_of_strain_tensor_shear_part(deformation_tensor)\n",
    "ros_tensor_shear"
   ]
  },
  {
   "cell_type": "markdown",
   "metadata": {},
   "source": [
    "Additionally, we can compute the principal axes of the rate-of-strain tensor (its eigenvectors) using the following function:"
   ]
  },
  {
   "cell_type": "code",
   "execution_count": 6,
   "metadata": {},
   "outputs": [
    {
     "data": {
      "text/plain": [
       "[Matrix([\n",
       " [-\\gamma/\\beta + 4*(\\alpha/3 - (\\alpha**2 + 3*\\beta**2/4 + 3*\\gamma**2/4)/(3*(-\\alpha**3 + 27*\\alpha*\\gamma**2/8 + 9*\\alpha*(-\\beta**2/4 - \\gamma**2/4)/2 + sqrt(-4*(\\alpha**2 + 3*\\beta**2/4 + 3*\\gamma**2/4)**3 + (-2*\\alpha**3 + 27*\\alpha*\\gamma**2/4 + 9*\\alpha*(-\\beta**2/4 - \\gamma**2/4))**2)/2)**(1/3)) - (-\\alpha**3 + 27*\\alpha*\\gamma**2/8 + 9*\\alpha*(-\\beta**2/4 - \\gamma**2/4)/2 + sqrt(-4*(\\alpha**2 + 3*\\beta**2/4 + 3*\\gamma**2/4)**3 + (-2*\\alpha**3 + 27*\\alpha*\\gamma**2/4 + 9*\\alpha*(-\\beta**2/4 - \\gamma**2/4))**2)/2)**(1/3)/3)**2/(\\beta*\\gamma)],\n",
       " [                           2*(\\alpha/3 - (\\alpha**2 + 3*\\beta**2/4 + 3*\\gamma**2/4)/(3*(-\\alpha**3 + 27*\\alpha*\\gamma**2/8 + 9*\\alpha*(-\\beta**2/4 - \\gamma**2/4)/2 + sqrt(-4*(\\alpha**2 + 3*\\beta**2/4 + 3*\\gamma**2/4)**3 + (-2*\\alpha**3 + 27*\\alpha*\\gamma**2/4 + 9*\\alpha*(-\\beta**2/4 - \\gamma**2/4))**2)/2)**(1/3)) - (-\\alpha**3 + 27*\\alpha*\\gamma**2/8 + 9*\\alpha*(-\\beta**2/4 - \\gamma**2/4)/2 + sqrt(-4*(\\alpha**2 + 3*\\beta**2/4 + 3*\\gamma**2/4)**3 + (-2*\\alpha**3 + 27*\\alpha*\\gamma**2/4 + 9*\\alpha*(-\\beta**2/4 - \\gamma**2/4))**2)/2)**(1/3)/3)/\\gamma],\n",
       " [                                                                                                                                                                                                                                                                                                                                                                                                                                                                                                                                                                        1]]),\n",
       " Matrix([\n",
       " [-\\gamma/\\beta + 4*(\\alpha/3 - (\\alpha**2 + 3*\\beta**2/4 + 3*\\gamma**2/4)/(3*(-1/2 - sqrt(3)*I/2)*(-\\alpha**3 + 27*\\alpha*\\gamma**2/8 + 9*\\alpha*(-\\beta**2/4 - \\gamma**2/4)/2 + sqrt(-4*(\\alpha**2 + 3*\\beta**2/4 + 3*\\gamma**2/4)**3 + (-2*\\alpha**3 + 27*\\alpha*\\gamma**2/4 + 9*\\alpha*(-\\beta**2/4 - \\gamma**2/4))**2)/2)**(1/3)) - (-1/2 - sqrt(3)*I/2)*(-\\alpha**3 + 27*\\alpha*\\gamma**2/8 + 9*\\alpha*(-\\beta**2/4 - \\gamma**2/4)/2 + sqrt(-4*(\\alpha**2 + 3*\\beta**2/4 + 3*\\gamma**2/4)**3 + (-2*\\alpha**3 + 27*\\alpha*\\gamma**2/4 + 9*\\alpha*(-\\beta**2/4 - \\gamma**2/4))**2)/2)**(1/3)/3)**2/(\\beta*\\gamma)],\n",
       " [                           2*(\\alpha/3 - (\\alpha**2 + 3*\\beta**2/4 + 3*\\gamma**2/4)/(3*(-1/2 - sqrt(3)*I/2)*(-\\alpha**3 + 27*\\alpha*\\gamma**2/8 + 9*\\alpha*(-\\beta**2/4 - \\gamma**2/4)/2 + sqrt(-4*(\\alpha**2 + 3*\\beta**2/4 + 3*\\gamma**2/4)**3 + (-2*\\alpha**3 + 27*\\alpha*\\gamma**2/4 + 9*\\alpha*(-\\beta**2/4 - \\gamma**2/4))**2)/2)**(1/3)) - (-1/2 - sqrt(3)*I/2)*(-\\alpha**3 + 27*\\alpha*\\gamma**2/8 + 9*\\alpha*(-\\beta**2/4 - \\gamma**2/4)/2 + sqrt(-4*(\\alpha**2 + 3*\\beta**2/4 + 3*\\gamma**2/4)**3 + (-2*\\alpha**3 + 27*\\alpha*\\gamma**2/4 + 9*\\alpha*(-\\beta**2/4 - \\gamma**2/4))**2)/2)**(1/3)/3)/\\gamma],\n",
       " [                                                                                                                                                                                                                                                                                                                                                                                                                                                                                                                                                                                                                  1]]),\n",
       " Matrix([\n",
       " [-\\gamma/\\beta + 4*(\\alpha/3 - (\\alpha**2 + 3*\\beta**2/4 + 3*\\gamma**2/4)/(3*(-1/2 + sqrt(3)*I/2)*(-\\alpha**3 + 27*\\alpha*\\gamma**2/8 + 9*\\alpha*(-\\beta**2/4 - \\gamma**2/4)/2 + sqrt(-4*(\\alpha**2 + 3*\\beta**2/4 + 3*\\gamma**2/4)**3 + (-2*\\alpha**3 + 27*\\alpha*\\gamma**2/4 + 9*\\alpha*(-\\beta**2/4 - \\gamma**2/4))**2)/2)**(1/3)) - (-1/2 + sqrt(3)*I/2)*(-\\alpha**3 + 27*\\alpha*\\gamma**2/8 + 9*\\alpha*(-\\beta**2/4 - \\gamma**2/4)/2 + sqrt(-4*(\\alpha**2 + 3*\\beta**2/4 + 3*\\gamma**2/4)**3 + (-2*\\alpha**3 + 27*\\alpha*\\gamma**2/4 + 9*\\alpha*(-\\beta**2/4 - \\gamma**2/4))**2)/2)**(1/3)/3)**2/(\\beta*\\gamma)],\n",
       " [                           2*(\\alpha/3 - (\\alpha**2 + 3*\\beta**2/4 + 3*\\gamma**2/4)/(3*(-1/2 + sqrt(3)*I/2)*(-\\alpha**3 + 27*\\alpha*\\gamma**2/8 + 9*\\alpha*(-\\beta**2/4 - \\gamma**2/4)/2 + sqrt(-4*(\\alpha**2 + 3*\\beta**2/4 + 3*\\gamma**2/4)**3 + (-2*\\alpha**3 + 27*\\alpha*\\gamma**2/4 + 9*\\alpha*(-\\beta**2/4 - \\gamma**2/4))**2)/2)**(1/3)) - (-1/2 + sqrt(3)*I/2)*(-\\alpha**3 + 27*\\alpha*\\gamma**2/8 + 9*\\alpha*(-\\beta**2/4 - \\gamma**2/4)/2 + sqrt(-4*(\\alpha**2 + 3*\\beta**2/4 + 3*\\gamma**2/4)**3 + (-2*\\alpha**3 + 27*\\alpha*\\gamma**2/4 + 9*\\alpha*(-\\beta**2/4 - \\gamma**2/4))**2)/2)**(1/3)/3)/\\gamma],\n",
       " [                                                                                                                                                                                                                                                                                                                                                                                                                                                                                                                                                                                                                  1]])]"
      ]
     },
     "execution_count": 6,
     "metadata": {},
     "output_type": "execute_result"
    }
   ],
   "source": [
    "ros_principal_axes = dtools.rate_of_strain_tensor_principal_axes(deformation_tensor)\n",
    "ros_principal_axes"
   ]
  },
  {
   "cell_type": "markdown",
   "metadata": {},
   "source": [
    "These principal axes are returned as a list of matrices. To display each principal axis in compiled LaTeX-style, we can iterate through the list's elements and use the *display()* function (available in Jupyter Notebook and IPython environments):"
   ]
  },
  {
   "cell_type": "code",
   "execution_count": 7,
   "metadata": {},
   "outputs": [
    {
     "data": {
      "text/latex": [
       "$\\displaystyle \\left[\\begin{matrix}- \\frac{\\gamma}{\\beta} + \\frac{4 \\left(\\frac{\\alpha}{3} - \\frac{\\alpha^{2} + \\frac{3 \\beta^{2}}{4} + \\frac{3 \\gamma^{2}}{4}}{3 \\sqrt[3]{- \\alpha^{3} + \\frac{27 \\alpha \\gamma^{2}}{8} + \\frac{9 \\alpha \\left(- \\frac{\\beta^{2}}{4} - \\frac{\\gamma^{2}}{4}\\right)}{2} + \\frac{\\sqrt{- 4 \\left(\\alpha^{2} + \\frac{3 \\beta^{2}}{4} + \\frac{3 \\gamma^{2}}{4}\\right)^{3} + \\left(- 2 \\alpha^{3} + \\frac{27 \\alpha \\gamma^{2}}{4} + 9 \\alpha \\left(- \\frac{\\beta^{2}}{4} - \\frac{\\gamma^{2}}{4}\\right)\\right)^{2}}}{2}}} - \\frac{\\sqrt[3]{- \\alpha^{3} + \\frac{27 \\alpha \\gamma^{2}}{8} + \\frac{9 \\alpha \\left(- \\frac{\\beta^{2}}{4} - \\frac{\\gamma^{2}}{4}\\right)}{2} + \\frac{\\sqrt{- 4 \\left(\\alpha^{2} + \\frac{3 \\beta^{2}}{4} + \\frac{3 \\gamma^{2}}{4}\\right)^{3} + \\left(- 2 \\alpha^{3} + \\frac{27 \\alpha \\gamma^{2}}{4} + 9 \\alpha \\left(- \\frac{\\beta^{2}}{4} - \\frac{\\gamma^{2}}{4}\\right)\\right)^{2}}}{2}}}{3}\\right)^{2}}{\\beta \\gamma}\\\\\\frac{2 \\left(\\frac{\\alpha}{3} - \\frac{\\alpha^{2} + \\frac{3 \\beta^{2}}{4} + \\frac{3 \\gamma^{2}}{4}}{3 \\sqrt[3]{- \\alpha^{3} + \\frac{27 \\alpha \\gamma^{2}}{8} + \\frac{9 \\alpha \\left(- \\frac{\\beta^{2}}{4} - \\frac{\\gamma^{2}}{4}\\right)}{2} + \\frac{\\sqrt{- 4 \\left(\\alpha^{2} + \\frac{3 \\beta^{2}}{4} + \\frac{3 \\gamma^{2}}{4}\\right)^{3} + \\left(- 2 \\alpha^{3} + \\frac{27 \\alpha \\gamma^{2}}{4} + 9 \\alpha \\left(- \\frac{\\beta^{2}}{4} - \\frac{\\gamma^{2}}{4}\\right)\\right)^{2}}}{2}}} - \\frac{\\sqrt[3]{- \\alpha^{3} + \\frac{27 \\alpha \\gamma^{2}}{8} + \\frac{9 \\alpha \\left(- \\frac{\\beta^{2}}{4} - \\frac{\\gamma^{2}}{4}\\right)}{2} + \\frac{\\sqrt{- 4 \\left(\\alpha^{2} + \\frac{3 \\beta^{2}}{4} + \\frac{3 \\gamma^{2}}{4}\\right)^{3} + \\left(- 2 \\alpha^{3} + \\frac{27 \\alpha \\gamma^{2}}{4} + 9 \\alpha \\left(- \\frac{\\beta^{2}}{4} - \\frac{\\gamma^{2}}{4}\\right)\\right)^{2}}}{2}}}{3}\\right)}{\\gamma}\\\\1\\end{matrix}\\right]$"
      ],
      "text/plain": [
       "Matrix([\n",
       "[-\\gamma/\\beta + 4*(\\alpha/3 - (\\alpha**2 + 3*\\beta**2/4 + 3*\\gamma**2/4)/(3*(-\\alpha**3 + 27*\\alpha*\\gamma**2/8 + 9*\\alpha*(-\\beta**2/4 - \\gamma**2/4)/2 + sqrt(-4*(\\alpha**2 + 3*\\beta**2/4 + 3*\\gamma**2/4)**3 + (-2*\\alpha**3 + 27*\\alpha*\\gamma**2/4 + 9*\\alpha*(-\\beta**2/4 - \\gamma**2/4))**2)/2)**(1/3)) - (-\\alpha**3 + 27*\\alpha*\\gamma**2/8 + 9*\\alpha*(-\\beta**2/4 - \\gamma**2/4)/2 + sqrt(-4*(\\alpha**2 + 3*\\beta**2/4 + 3*\\gamma**2/4)**3 + (-2*\\alpha**3 + 27*\\alpha*\\gamma**2/4 + 9*\\alpha*(-\\beta**2/4 - \\gamma**2/4))**2)/2)**(1/3)/3)**2/(\\beta*\\gamma)],\n",
       "[                           2*(\\alpha/3 - (\\alpha**2 + 3*\\beta**2/4 + 3*\\gamma**2/4)/(3*(-\\alpha**3 + 27*\\alpha*\\gamma**2/8 + 9*\\alpha*(-\\beta**2/4 - \\gamma**2/4)/2 + sqrt(-4*(\\alpha**2 + 3*\\beta**2/4 + 3*\\gamma**2/4)**3 + (-2*\\alpha**3 + 27*\\alpha*\\gamma**2/4 + 9*\\alpha*(-\\beta**2/4 - \\gamma**2/4))**2)/2)**(1/3)) - (-\\alpha**3 + 27*\\alpha*\\gamma**2/8 + 9*\\alpha*(-\\beta**2/4 - \\gamma**2/4)/2 + sqrt(-4*(\\alpha**2 + 3*\\beta**2/4 + 3*\\gamma**2/4)**3 + (-2*\\alpha**3 + 27*\\alpha*\\gamma**2/4 + 9*\\alpha*(-\\beta**2/4 - \\gamma**2/4))**2)/2)**(1/3)/3)/\\gamma],\n",
       "[                                                                                                                                                                                                                                                                                                                                                                                                                                                                                                                                                                        1]])"
      ]
     },
     "metadata": {},
     "output_type": "display_data"
    },
    {
     "data": {
      "text/latex": [
       "$\\displaystyle \\left[\\begin{matrix}- \\frac{\\gamma}{\\beta} + \\frac{4 \\left(\\frac{\\alpha}{3} - \\frac{\\alpha^{2} + \\frac{3 \\beta^{2}}{4} + \\frac{3 \\gamma^{2}}{4}}{3 \\left(- \\frac{1}{2} - \\frac{\\sqrt{3} i}{2}\\right) \\sqrt[3]{- \\alpha^{3} + \\frac{27 \\alpha \\gamma^{2}}{8} + \\frac{9 \\alpha \\left(- \\frac{\\beta^{2}}{4} - \\frac{\\gamma^{2}}{4}\\right)}{2} + \\frac{\\sqrt{- 4 \\left(\\alpha^{2} + \\frac{3 \\beta^{2}}{4} + \\frac{3 \\gamma^{2}}{4}\\right)^{3} + \\left(- 2 \\alpha^{3} + \\frac{27 \\alpha \\gamma^{2}}{4} + 9 \\alpha \\left(- \\frac{\\beta^{2}}{4} - \\frac{\\gamma^{2}}{4}\\right)\\right)^{2}}}{2}}} - \\frac{\\left(- \\frac{1}{2} - \\frac{\\sqrt{3} i}{2}\\right) \\sqrt[3]{- \\alpha^{3} + \\frac{27 \\alpha \\gamma^{2}}{8} + \\frac{9 \\alpha \\left(- \\frac{\\beta^{2}}{4} - \\frac{\\gamma^{2}}{4}\\right)}{2} + \\frac{\\sqrt{- 4 \\left(\\alpha^{2} + \\frac{3 \\beta^{2}}{4} + \\frac{3 \\gamma^{2}}{4}\\right)^{3} + \\left(- 2 \\alpha^{3} + \\frac{27 \\alpha \\gamma^{2}}{4} + 9 \\alpha \\left(- \\frac{\\beta^{2}}{4} - \\frac{\\gamma^{2}}{4}\\right)\\right)^{2}}}{2}}}{3}\\right)^{2}}{\\beta \\gamma}\\\\\\frac{2 \\left(\\frac{\\alpha}{3} - \\frac{\\alpha^{2} + \\frac{3 \\beta^{2}}{4} + \\frac{3 \\gamma^{2}}{4}}{3 \\left(- \\frac{1}{2} - \\frac{\\sqrt{3} i}{2}\\right) \\sqrt[3]{- \\alpha^{3} + \\frac{27 \\alpha \\gamma^{2}}{8} + \\frac{9 \\alpha \\left(- \\frac{\\beta^{2}}{4} - \\frac{\\gamma^{2}}{4}\\right)}{2} + \\frac{\\sqrt{- 4 \\left(\\alpha^{2} + \\frac{3 \\beta^{2}}{4} + \\frac{3 \\gamma^{2}}{4}\\right)^{3} + \\left(- 2 \\alpha^{3} + \\frac{27 \\alpha \\gamma^{2}}{4} + 9 \\alpha \\left(- \\frac{\\beta^{2}}{4} - \\frac{\\gamma^{2}}{4}\\right)\\right)^{2}}}{2}}} - \\frac{\\left(- \\frac{1}{2} - \\frac{\\sqrt{3} i}{2}\\right) \\sqrt[3]{- \\alpha^{3} + \\frac{27 \\alpha \\gamma^{2}}{8} + \\frac{9 \\alpha \\left(- \\frac{\\beta^{2}}{4} - \\frac{\\gamma^{2}}{4}\\right)}{2} + \\frac{\\sqrt{- 4 \\left(\\alpha^{2} + \\frac{3 \\beta^{2}}{4} + \\frac{3 \\gamma^{2}}{4}\\right)^{3} + \\left(- 2 \\alpha^{3} + \\frac{27 \\alpha \\gamma^{2}}{4} + 9 \\alpha \\left(- \\frac{\\beta^{2}}{4} - \\frac{\\gamma^{2}}{4}\\right)\\right)^{2}}}{2}}}{3}\\right)}{\\gamma}\\\\1\\end{matrix}\\right]$"
      ],
      "text/plain": [
       "Matrix([\n",
       "[-\\gamma/\\beta + 4*(\\alpha/3 - (\\alpha**2 + 3*\\beta**2/4 + 3*\\gamma**2/4)/(3*(-1/2 - sqrt(3)*I/2)*(-\\alpha**3 + 27*\\alpha*\\gamma**2/8 + 9*\\alpha*(-\\beta**2/4 - \\gamma**2/4)/2 + sqrt(-4*(\\alpha**2 + 3*\\beta**2/4 + 3*\\gamma**2/4)**3 + (-2*\\alpha**3 + 27*\\alpha*\\gamma**2/4 + 9*\\alpha*(-\\beta**2/4 - \\gamma**2/4))**2)/2)**(1/3)) - (-1/2 - sqrt(3)*I/2)*(-\\alpha**3 + 27*\\alpha*\\gamma**2/8 + 9*\\alpha*(-\\beta**2/4 - \\gamma**2/4)/2 + sqrt(-4*(\\alpha**2 + 3*\\beta**2/4 + 3*\\gamma**2/4)**3 + (-2*\\alpha**3 + 27*\\alpha*\\gamma**2/4 + 9*\\alpha*(-\\beta**2/4 - \\gamma**2/4))**2)/2)**(1/3)/3)**2/(\\beta*\\gamma)],\n",
       "[                           2*(\\alpha/3 - (\\alpha**2 + 3*\\beta**2/4 + 3*\\gamma**2/4)/(3*(-1/2 - sqrt(3)*I/2)*(-\\alpha**3 + 27*\\alpha*\\gamma**2/8 + 9*\\alpha*(-\\beta**2/4 - \\gamma**2/4)/2 + sqrt(-4*(\\alpha**2 + 3*\\beta**2/4 + 3*\\gamma**2/4)**3 + (-2*\\alpha**3 + 27*\\alpha*\\gamma**2/4 + 9*\\alpha*(-\\beta**2/4 - \\gamma**2/4))**2)/2)**(1/3)) - (-1/2 - sqrt(3)*I/2)*(-\\alpha**3 + 27*\\alpha*\\gamma**2/8 + 9*\\alpha*(-\\beta**2/4 - \\gamma**2/4)/2 + sqrt(-4*(\\alpha**2 + 3*\\beta**2/4 + 3*\\gamma**2/4)**3 + (-2*\\alpha**3 + 27*\\alpha*\\gamma**2/4 + 9*\\alpha*(-\\beta**2/4 - \\gamma**2/4))**2)/2)**(1/3)/3)/\\gamma],\n",
       "[                                                                                                                                                                                                                                                                                                                                                                                                                                                                                                                                                                                                                  1]])"
      ]
     },
     "metadata": {},
     "output_type": "display_data"
    },
    {
     "data": {
      "text/latex": [
       "$\\displaystyle \\left[\\begin{matrix}- \\frac{\\gamma}{\\beta} + \\frac{4 \\left(\\frac{\\alpha}{3} - \\frac{\\alpha^{2} + \\frac{3 \\beta^{2}}{4} + \\frac{3 \\gamma^{2}}{4}}{3 \\left(- \\frac{1}{2} + \\frac{\\sqrt{3} i}{2}\\right) \\sqrt[3]{- \\alpha^{3} + \\frac{27 \\alpha \\gamma^{2}}{8} + \\frac{9 \\alpha \\left(- \\frac{\\beta^{2}}{4} - \\frac{\\gamma^{2}}{4}\\right)}{2} + \\frac{\\sqrt{- 4 \\left(\\alpha^{2} + \\frac{3 \\beta^{2}}{4} + \\frac{3 \\gamma^{2}}{4}\\right)^{3} + \\left(- 2 \\alpha^{3} + \\frac{27 \\alpha \\gamma^{2}}{4} + 9 \\alpha \\left(- \\frac{\\beta^{2}}{4} - \\frac{\\gamma^{2}}{4}\\right)\\right)^{2}}}{2}}} - \\frac{\\left(- \\frac{1}{2} + \\frac{\\sqrt{3} i}{2}\\right) \\sqrt[3]{- \\alpha^{3} + \\frac{27 \\alpha \\gamma^{2}}{8} + \\frac{9 \\alpha \\left(- \\frac{\\beta^{2}}{4} - \\frac{\\gamma^{2}}{4}\\right)}{2} + \\frac{\\sqrt{- 4 \\left(\\alpha^{2} + \\frac{3 \\beta^{2}}{4} + \\frac{3 \\gamma^{2}}{4}\\right)^{3} + \\left(- 2 \\alpha^{3} + \\frac{27 \\alpha \\gamma^{2}}{4} + 9 \\alpha \\left(- \\frac{\\beta^{2}}{4} - \\frac{\\gamma^{2}}{4}\\right)\\right)^{2}}}{2}}}{3}\\right)^{2}}{\\beta \\gamma}\\\\\\frac{2 \\left(\\frac{\\alpha}{3} - \\frac{\\alpha^{2} + \\frac{3 \\beta^{2}}{4} + \\frac{3 \\gamma^{2}}{4}}{3 \\left(- \\frac{1}{2} + \\frac{\\sqrt{3} i}{2}\\right) \\sqrt[3]{- \\alpha^{3} + \\frac{27 \\alpha \\gamma^{2}}{8} + \\frac{9 \\alpha \\left(- \\frac{\\beta^{2}}{4} - \\frac{\\gamma^{2}}{4}\\right)}{2} + \\frac{\\sqrt{- 4 \\left(\\alpha^{2} + \\frac{3 \\beta^{2}}{4} + \\frac{3 \\gamma^{2}}{4}\\right)^{3} + \\left(- 2 \\alpha^{3} + \\frac{27 \\alpha \\gamma^{2}}{4} + 9 \\alpha \\left(- \\frac{\\beta^{2}}{4} - \\frac{\\gamma^{2}}{4}\\right)\\right)^{2}}}{2}}} - \\frac{\\left(- \\frac{1}{2} + \\frac{\\sqrt{3} i}{2}\\right) \\sqrt[3]{- \\alpha^{3} + \\frac{27 \\alpha \\gamma^{2}}{8} + \\frac{9 \\alpha \\left(- \\frac{\\beta^{2}}{4} - \\frac{\\gamma^{2}}{4}\\right)}{2} + \\frac{\\sqrt{- 4 \\left(\\alpha^{2} + \\frac{3 \\beta^{2}}{4} + \\frac{3 \\gamma^{2}}{4}\\right)^{3} + \\left(- 2 \\alpha^{3} + \\frac{27 \\alpha \\gamma^{2}}{4} + 9 \\alpha \\left(- \\frac{\\beta^{2}}{4} - \\frac{\\gamma^{2}}{4}\\right)\\right)^{2}}}{2}}}{3}\\right)}{\\gamma}\\\\1\\end{matrix}\\right]$"
      ],
      "text/plain": [
       "Matrix([\n",
       "[-\\gamma/\\beta + 4*(\\alpha/3 - (\\alpha**2 + 3*\\beta**2/4 + 3*\\gamma**2/4)/(3*(-1/2 + sqrt(3)*I/2)*(-\\alpha**3 + 27*\\alpha*\\gamma**2/8 + 9*\\alpha*(-\\beta**2/4 - \\gamma**2/4)/2 + sqrt(-4*(\\alpha**2 + 3*\\beta**2/4 + 3*\\gamma**2/4)**3 + (-2*\\alpha**3 + 27*\\alpha*\\gamma**2/4 + 9*\\alpha*(-\\beta**2/4 - \\gamma**2/4))**2)/2)**(1/3)) - (-1/2 + sqrt(3)*I/2)*(-\\alpha**3 + 27*\\alpha*\\gamma**2/8 + 9*\\alpha*(-\\beta**2/4 - \\gamma**2/4)/2 + sqrt(-4*(\\alpha**2 + 3*\\beta**2/4 + 3*\\gamma**2/4)**3 + (-2*\\alpha**3 + 27*\\alpha*\\gamma**2/4 + 9*\\alpha*(-\\beta**2/4 - \\gamma**2/4))**2)/2)**(1/3)/3)**2/(\\beta*\\gamma)],\n",
       "[                           2*(\\alpha/3 - (\\alpha**2 + 3*\\beta**2/4 + 3*\\gamma**2/4)/(3*(-1/2 + sqrt(3)*I/2)*(-\\alpha**3 + 27*\\alpha*\\gamma**2/8 + 9*\\alpha*(-\\beta**2/4 - \\gamma**2/4)/2 + sqrt(-4*(\\alpha**2 + 3*\\beta**2/4 + 3*\\gamma**2/4)**3 + (-2*\\alpha**3 + 27*\\alpha*\\gamma**2/4 + 9*\\alpha*(-\\beta**2/4 - \\gamma**2/4))**2)/2)**(1/3)) - (-1/2 + sqrt(3)*I/2)*(-\\alpha**3 + 27*\\alpha*\\gamma**2/8 + 9*\\alpha*(-\\beta**2/4 - \\gamma**2/4)/2 + sqrt(-4*(\\alpha**2 + 3*\\beta**2/4 + 3*\\gamma**2/4)**3 + (-2*\\alpha**3 + 27*\\alpha*\\gamma**2/4 + 9*\\alpha*(-\\beta**2/4 - \\gamma**2/4))**2)/2)**(1/3)/3)/\\gamma],\n",
       "[                                                                                                                                                                                                                                                                                                                                                                                                                                                                                                                                                                                                                  1]])"
      ]
     },
     "metadata": {},
     "output_type": "display_data"
    }
   ],
   "source": [
    "for axis in ros_principal_axes:\n",
    "    display(axis)"
   ]
  },
  {
   "cell_type": "markdown",
   "metadata": {},
   "source": [
    "Since these principal axes may involve complex expressions, it might be useful to evaluate them with numerical values substituted for the parameters. This can be easily done using a dictionary and the *subs()* function within *SymPy*. In the our example, we set the parameters to $\\alpha = \\gamma = 4$ and $\\beta = 0$ and obtain the following results:"
   ]
  },
  {
   "cell_type": "code",
   "execution_count": 14,
   "metadata": {},
   "outputs": [
    {
     "data": {
      "text/latex": [
       "$\\displaystyle \\left[\\begin{matrix}4 & 0 & 0\\\\0 & 0 & 4\\\\0 & 0 & 0\\end{matrix}\\right]$"
      ],
      "text/plain": [
       "Matrix([\n",
       "[4, 0, 0],\n",
       "[0, 0, 4],\n",
       "[0, 0, 0]])"
      ]
     },
     "execution_count": 14,
     "metadata": {},
     "output_type": "execute_result"
    }
   ],
   "source": [
    "# Create a dictionary to define the numerical values of the parameters\n",
    "values = {alpha: 4,\n",
    "          beta: 0, \n",
    "          gamma: 4\n",
    "         }\n",
    "\n",
    "# Substitute numerical values for the parameters of the deformation tensor\n",
    "num_deformation_tensor = deformation_tensor.subs(values)\n",
    "num_deformation_tensor"
   ]
  },
  {
   "cell_type": "code",
   "execution_count": 9,
   "metadata": {},
   "outputs": [
    {
     "data": {
      "text/latex": [
       "$\\displaystyle \\left[\\begin{matrix}0\\\\-1\\\\1\\end{matrix}\\right]$"
      ],
      "text/plain": [
       "Matrix([\n",
       "[ 0],\n",
       "[-1],\n",
       "[ 1]])"
      ]
     },
     "metadata": {},
     "output_type": "display_data"
    },
    {
     "data": {
      "text/latex": [
       "$\\displaystyle \\left[\\begin{matrix}0\\\\1\\\\1\\end{matrix}\\right]$"
      ],
      "text/plain": [
       "Matrix([\n",
       "[0],\n",
       "[1],\n",
       "[1]])"
      ]
     },
     "metadata": {},
     "output_type": "display_data"
    },
    {
     "data": {
      "text/latex": [
       "$\\displaystyle \\left[\\begin{matrix}1\\\\0\\\\0\\end{matrix}\\right]$"
      ],
      "text/plain": [
       "Matrix([\n",
       "[1],\n",
       "[0],\n",
       "[0]])"
      ]
     },
     "metadata": {},
     "output_type": "display_data"
    }
   ],
   "source": [
    "# Determine the principal axes with numerical values\n",
    "num_principal_axes = dtools.rate_of_strain_tensor_principal_axes(num_deformation_tensor)\n",
    "\n",
    "# Display each principal axes with numerical values\n",
    "for num_axis in num_principal_axes:\n",
    "    display(num_axis)"
   ]
  },
  {
   "cell_type": "markdown",
   "metadata": {},
   "source": [
    "## Rotation Tensor\n",
    "We can also compute the rotation tensor $\\overleftrightarrow{\\omega}$, which is the anti-symmetric part of the deformation tensor, with the elements\n",
    "$$\\omega_{ij} = \\frac{1}{2}\\left(\\frac{\\partial u_i}{\\partial x_j}-\\frac{\\partial u_j}{\\partial x_i}\\right),$$\n",
    "as follows:"
   ]
  },
  {
   "cell_type": "code",
   "execution_count": 10,
   "metadata": {},
   "outputs": [
    {
     "data": {
      "text/latex": [
       "$\\displaystyle \\left[\\begin{matrix}0 & \\frac{\\beta}{2} & 0\\\\- \\frac{\\beta}{2} & 0 & \\frac{\\gamma}{2}\\\\0 & - \\frac{\\gamma}{2} & 0\\end{matrix}\\right]$"
      ],
      "text/plain": [
       "Matrix([\n",
       "[       0,   \\beta/2,        0],\n",
       "[-\\beta/2,         0, \\gamma/2],\n",
       "[       0, -\\gamma/2,        0]])"
      ]
     },
     "execution_count": 10,
     "metadata": {},
     "output_type": "execute_result"
    }
   ],
   "source": [
    "rotation_tensor = dtools.rotation_tensor(deformation_tensor)\n",
    "rotation_tensor"
   ]
  },
  {
   "cell_type": "markdown",
   "metadata": {},
   "source": [
    "The closely related principal rotation axis $\\vec{w}$, with the components\n",
    "$$w_i = \\frac{1}{2}\\varepsilon_{ijk}\\omega_{jk},$$\n",
    "where $\\varepsilon_{ijk}$ represents the Levi-Cevita-symbol, can also be computed via:"
   ]
  },
  {
   "cell_type": "code",
   "execution_count": 11,
   "metadata": {},
   "outputs": [
    {
     "data": {
      "text/latex": [
       "$\\displaystyle \\left[\\begin{matrix}\\frac{\\gamma}{2}\\\\0\\\\\\frac{\\beta}{2}\\end{matrix}\\right]$"
      ],
      "text/plain": [
       "Matrix([\n",
       "[\\gamma/2],\n",
       "[       0],\n",
       "[ \\beta/2]])"
      ]
     },
     "execution_count": 11,
     "metadata": {},
     "output_type": "execute_result"
    }
   ],
   "source": [
    "rotation_axis = dtools.principal_axis_of_rotation(deformation_tensor)\n",
    "rotation_axis"
   ]
  },
  {
   "cell_type": "markdown",
   "metadata": {},
   "source": [
    "## Complete Decomposition\n",
    "If we want to apply all of the above operations to a given deformation tensor $\\partial u_i/\\partial x_j$, we can simply use the *complete_decomposition()* function, which generates a list as an output with the following structure:\n",
    "1) Rate-of-strain tensor $\\overleftrightarrow{\\epsilon}$,\n",
    "2) Principal axes of the rate-of-strain tensor $\\vec{v_p}$ in the form of a list,\n",
    "3) Volumetric part of the rate-of-strain tensor $\\overleftrightarrow{\\epsilon}^V$,\n",
    "4) Shear part of the rate of strain tensor $\\overleftrightarrow{\\epsilon}^S$,\n",
    "5) Rotational tensor $\\overleftrightarrow{\\omega}$,\n",
    "6) Principal axis of rotation $\\vec{w}$."
   ]
  },
  {
   "cell_type": "code",
   "execution_count": 12,
   "metadata": {},
   "outputs": [
    {
     "data": {
      "text/latex": [
       "$\\displaystyle \\left[\\begin{matrix}\\alpha & \\frac{\\beta}{2} & 0\\\\\\frac{\\beta}{2} & 0 & \\frac{\\gamma}{2}\\\\0 & \\frac{\\gamma}{2} & 0\\end{matrix}\\right]$"
      ],
      "text/plain": [
       "Matrix([\n",
       "[ \\alpha,  \\beta/2,        0],\n",
       "[\\beta/2,        0, \\gamma/2],\n",
       "[      0, \\gamma/2,        0]])"
      ]
     },
     "metadata": {},
     "output_type": "display_data"
    },
    {
     "data": {
      "text/latex": [
       "$\\displaystyle \\left[\\begin{matrix}- \\frac{\\gamma}{\\beta} + \\frac{4 \\left(\\frac{\\alpha}{3} - \\frac{\\alpha^{2} + \\frac{3 \\beta^{2}}{4} + \\frac{3 \\gamma^{2}}{4}}{3 \\sqrt[3]{- \\alpha^{3} + \\frac{27 \\alpha \\gamma^{2}}{8} + \\frac{9 \\alpha \\left(- \\frac{\\beta^{2}}{4} - \\frac{\\gamma^{2}}{4}\\right)}{2} + \\frac{\\sqrt{- 4 \\left(\\alpha^{2} + \\frac{3 \\beta^{2}}{4} + \\frac{3 \\gamma^{2}}{4}\\right)^{3} + \\left(- 2 \\alpha^{3} + \\frac{27 \\alpha \\gamma^{2}}{4} + 9 \\alpha \\left(- \\frac{\\beta^{2}}{4} - \\frac{\\gamma^{2}}{4}\\right)\\right)^{2}}}{2}}} - \\frac{\\sqrt[3]{- \\alpha^{3} + \\frac{27 \\alpha \\gamma^{2}}{8} + \\frac{9 \\alpha \\left(- \\frac{\\beta^{2}}{4} - \\frac{\\gamma^{2}}{4}\\right)}{2} + \\frac{\\sqrt{- 4 \\left(\\alpha^{2} + \\frac{3 \\beta^{2}}{4} + \\frac{3 \\gamma^{2}}{4}\\right)^{3} + \\left(- 2 \\alpha^{3} + \\frac{27 \\alpha \\gamma^{2}}{4} + 9 \\alpha \\left(- \\frac{\\beta^{2}}{4} - \\frac{\\gamma^{2}}{4}\\right)\\right)^{2}}}{2}}}{3}\\right)^{2}}{\\beta \\gamma}\\\\\\frac{2 \\left(\\frac{\\alpha}{3} - \\frac{\\alpha^{2} + \\frac{3 \\beta^{2}}{4} + \\frac{3 \\gamma^{2}}{4}}{3 \\sqrt[3]{- \\alpha^{3} + \\frac{27 \\alpha \\gamma^{2}}{8} + \\frac{9 \\alpha \\left(- \\frac{\\beta^{2}}{4} - \\frac{\\gamma^{2}}{4}\\right)}{2} + \\frac{\\sqrt{- 4 \\left(\\alpha^{2} + \\frac{3 \\beta^{2}}{4} + \\frac{3 \\gamma^{2}}{4}\\right)^{3} + \\left(- 2 \\alpha^{3} + \\frac{27 \\alpha \\gamma^{2}}{4} + 9 \\alpha \\left(- \\frac{\\beta^{2}}{4} - \\frac{\\gamma^{2}}{4}\\right)\\right)^{2}}}{2}}} - \\frac{\\sqrt[3]{- \\alpha^{3} + \\frac{27 \\alpha \\gamma^{2}}{8} + \\frac{9 \\alpha \\left(- \\frac{\\beta^{2}}{4} - \\frac{\\gamma^{2}}{4}\\right)}{2} + \\frac{\\sqrt{- 4 \\left(\\alpha^{2} + \\frac{3 \\beta^{2}}{4} + \\frac{3 \\gamma^{2}}{4}\\right)^{3} + \\left(- 2 \\alpha^{3} + \\frac{27 \\alpha \\gamma^{2}}{4} + 9 \\alpha \\left(- \\frac{\\beta^{2}}{4} - \\frac{\\gamma^{2}}{4}\\right)\\right)^{2}}}{2}}}{3}\\right)}{\\gamma}\\\\1\\end{matrix}\\right]$"
      ],
      "text/plain": [
       "Matrix([\n",
       "[-\\gamma/\\beta + 4*(\\alpha/3 - (\\alpha**2 + 3*\\beta**2/4 + 3*\\gamma**2/4)/(3*(-\\alpha**3 + 27*\\alpha*\\gamma**2/8 + 9*\\alpha*(-\\beta**2/4 - \\gamma**2/4)/2 + sqrt(-4*(\\alpha**2 + 3*\\beta**2/4 + 3*\\gamma**2/4)**3 + (-2*\\alpha**3 + 27*\\alpha*\\gamma**2/4 + 9*\\alpha*(-\\beta**2/4 - \\gamma**2/4))**2)/2)**(1/3)) - (-\\alpha**3 + 27*\\alpha*\\gamma**2/8 + 9*\\alpha*(-\\beta**2/4 - \\gamma**2/4)/2 + sqrt(-4*(\\alpha**2 + 3*\\beta**2/4 + 3*\\gamma**2/4)**3 + (-2*\\alpha**3 + 27*\\alpha*\\gamma**2/4 + 9*\\alpha*(-\\beta**2/4 - \\gamma**2/4))**2)/2)**(1/3)/3)**2/(\\beta*\\gamma)],\n",
       "[                           2*(\\alpha/3 - (\\alpha**2 + 3*\\beta**2/4 + 3*\\gamma**2/4)/(3*(-\\alpha**3 + 27*\\alpha*\\gamma**2/8 + 9*\\alpha*(-\\beta**2/4 - \\gamma**2/4)/2 + sqrt(-4*(\\alpha**2 + 3*\\beta**2/4 + 3*\\gamma**2/4)**3 + (-2*\\alpha**3 + 27*\\alpha*\\gamma**2/4 + 9*\\alpha*(-\\beta**2/4 - \\gamma**2/4))**2)/2)**(1/3)) - (-\\alpha**3 + 27*\\alpha*\\gamma**2/8 + 9*\\alpha*(-\\beta**2/4 - \\gamma**2/4)/2 + sqrt(-4*(\\alpha**2 + 3*\\beta**2/4 + 3*\\gamma**2/4)**3 + (-2*\\alpha**3 + 27*\\alpha*\\gamma**2/4 + 9*\\alpha*(-\\beta**2/4 - \\gamma**2/4))**2)/2)**(1/3)/3)/\\gamma],\n",
       "[                                                                                                                                                                                                                                                                                                                                                                                                                                                                                                                                                                        1]])"
      ]
     },
     "metadata": {},
     "output_type": "display_data"
    },
    {
     "data": {
      "text/latex": [
       "$\\displaystyle \\left[\\begin{matrix}- \\frac{\\gamma}{\\beta} + \\frac{4 \\left(\\frac{\\alpha}{3} - \\frac{\\alpha^{2} + \\frac{3 \\beta^{2}}{4} + \\frac{3 \\gamma^{2}}{4}}{3 \\left(- \\frac{1}{2} - \\frac{\\sqrt{3} i}{2}\\right) \\sqrt[3]{- \\alpha^{3} + \\frac{27 \\alpha \\gamma^{2}}{8} + \\frac{9 \\alpha \\left(- \\frac{\\beta^{2}}{4} - \\frac{\\gamma^{2}}{4}\\right)}{2} + \\frac{\\sqrt{- 4 \\left(\\alpha^{2} + \\frac{3 \\beta^{2}}{4} + \\frac{3 \\gamma^{2}}{4}\\right)^{3} + \\left(- 2 \\alpha^{3} + \\frac{27 \\alpha \\gamma^{2}}{4} + 9 \\alpha \\left(- \\frac{\\beta^{2}}{4} - \\frac{\\gamma^{2}}{4}\\right)\\right)^{2}}}{2}}} - \\frac{\\left(- \\frac{1}{2} - \\frac{\\sqrt{3} i}{2}\\right) \\sqrt[3]{- \\alpha^{3} + \\frac{27 \\alpha \\gamma^{2}}{8} + \\frac{9 \\alpha \\left(- \\frac{\\beta^{2}}{4} - \\frac{\\gamma^{2}}{4}\\right)}{2} + \\frac{\\sqrt{- 4 \\left(\\alpha^{2} + \\frac{3 \\beta^{2}}{4} + \\frac{3 \\gamma^{2}}{4}\\right)^{3} + \\left(- 2 \\alpha^{3} + \\frac{27 \\alpha \\gamma^{2}}{4} + 9 \\alpha \\left(- \\frac{\\beta^{2}}{4} - \\frac{\\gamma^{2}}{4}\\right)\\right)^{2}}}{2}}}{3}\\right)^{2}}{\\beta \\gamma}\\\\\\frac{2 \\left(\\frac{\\alpha}{3} - \\frac{\\alpha^{2} + \\frac{3 \\beta^{2}}{4} + \\frac{3 \\gamma^{2}}{4}}{3 \\left(- \\frac{1}{2} - \\frac{\\sqrt{3} i}{2}\\right) \\sqrt[3]{- \\alpha^{3} + \\frac{27 \\alpha \\gamma^{2}}{8} + \\frac{9 \\alpha \\left(- \\frac{\\beta^{2}}{4} - \\frac{\\gamma^{2}}{4}\\right)}{2} + \\frac{\\sqrt{- 4 \\left(\\alpha^{2} + \\frac{3 \\beta^{2}}{4} + \\frac{3 \\gamma^{2}}{4}\\right)^{3} + \\left(- 2 \\alpha^{3} + \\frac{27 \\alpha \\gamma^{2}}{4} + 9 \\alpha \\left(- \\frac{\\beta^{2}}{4} - \\frac{\\gamma^{2}}{4}\\right)\\right)^{2}}}{2}}} - \\frac{\\left(- \\frac{1}{2} - \\frac{\\sqrt{3} i}{2}\\right) \\sqrt[3]{- \\alpha^{3} + \\frac{27 \\alpha \\gamma^{2}}{8} + \\frac{9 \\alpha \\left(- \\frac{\\beta^{2}}{4} - \\frac{\\gamma^{2}}{4}\\right)}{2} + \\frac{\\sqrt{- 4 \\left(\\alpha^{2} + \\frac{3 \\beta^{2}}{4} + \\frac{3 \\gamma^{2}}{4}\\right)^{3} + \\left(- 2 \\alpha^{3} + \\frac{27 \\alpha \\gamma^{2}}{4} + 9 \\alpha \\left(- \\frac{\\beta^{2}}{4} - \\frac{\\gamma^{2}}{4}\\right)\\right)^{2}}}{2}}}{3}\\right)}{\\gamma}\\\\1\\end{matrix}\\right]$"
      ],
      "text/plain": [
       "Matrix([\n",
       "[-\\gamma/\\beta + 4*(\\alpha/3 - (\\alpha**2 + 3*\\beta**2/4 + 3*\\gamma**2/4)/(3*(-1/2 - sqrt(3)*I/2)*(-\\alpha**3 + 27*\\alpha*\\gamma**2/8 + 9*\\alpha*(-\\beta**2/4 - \\gamma**2/4)/2 + sqrt(-4*(\\alpha**2 + 3*\\beta**2/4 + 3*\\gamma**2/4)**3 + (-2*\\alpha**3 + 27*\\alpha*\\gamma**2/4 + 9*\\alpha*(-\\beta**2/4 - \\gamma**2/4))**2)/2)**(1/3)) - (-1/2 - sqrt(3)*I/2)*(-\\alpha**3 + 27*\\alpha*\\gamma**2/8 + 9*\\alpha*(-\\beta**2/4 - \\gamma**2/4)/2 + sqrt(-4*(\\alpha**2 + 3*\\beta**2/4 + 3*\\gamma**2/4)**3 + (-2*\\alpha**3 + 27*\\alpha*\\gamma**2/4 + 9*\\alpha*(-\\beta**2/4 - \\gamma**2/4))**2)/2)**(1/3)/3)**2/(\\beta*\\gamma)],\n",
       "[                           2*(\\alpha/3 - (\\alpha**2 + 3*\\beta**2/4 + 3*\\gamma**2/4)/(3*(-1/2 - sqrt(3)*I/2)*(-\\alpha**3 + 27*\\alpha*\\gamma**2/8 + 9*\\alpha*(-\\beta**2/4 - \\gamma**2/4)/2 + sqrt(-4*(\\alpha**2 + 3*\\beta**2/4 + 3*\\gamma**2/4)**3 + (-2*\\alpha**3 + 27*\\alpha*\\gamma**2/4 + 9*\\alpha*(-\\beta**2/4 - \\gamma**2/4))**2)/2)**(1/3)) - (-1/2 - sqrt(3)*I/2)*(-\\alpha**3 + 27*\\alpha*\\gamma**2/8 + 9*\\alpha*(-\\beta**2/4 - \\gamma**2/4)/2 + sqrt(-4*(\\alpha**2 + 3*\\beta**2/4 + 3*\\gamma**2/4)**3 + (-2*\\alpha**3 + 27*\\alpha*\\gamma**2/4 + 9*\\alpha*(-\\beta**2/4 - \\gamma**2/4))**2)/2)**(1/3)/3)/\\gamma],\n",
       "[                                                                                                                                                                                                                                                                                                                                                                                                                                                                                                                                                                                                                  1]])"
      ]
     },
     "metadata": {},
     "output_type": "display_data"
    },
    {
     "data": {
      "text/latex": [
       "$\\displaystyle \\left[\\begin{matrix}- \\frac{\\gamma}{\\beta} + \\frac{4 \\left(\\frac{\\alpha}{3} - \\frac{\\alpha^{2} + \\frac{3 \\beta^{2}}{4} + \\frac{3 \\gamma^{2}}{4}}{3 \\left(- \\frac{1}{2} + \\frac{\\sqrt{3} i}{2}\\right) \\sqrt[3]{- \\alpha^{3} + \\frac{27 \\alpha \\gamma^{2}}{8} + \\frac{9 \\alpha \\left(- \\frac{\\beta^{2}}{4} - \\frac{\\gamma^{2}}{4}\\right)}{2} + \\frac{\\sqrt{- 4 \\left(\\alpha^{2} + \\frac{3 \\beta^{2}}{4} + \\frac{3 \\gamma^{2}}{4}\\right)^{3} + \\left(- 2 \\alpha^{3} + \\frac{27 \\alpha \\gamma^{2}}{4} + 9 \\alpha \\left(- \\frac{\\beta^{2}}{4} - \\frac{\\gamma^{2}}{4}\\right)\\right)^{2}}}{2}}} - \\frac{\\left(- \\frac{1}{2} + \\frac{\\sqrt{3} i}{2}\\right) \\sqrt[3]{- \\alpha^{3} + \\frac{27 \\alpha \\gamma^{2}}{8} + \\frac{9 \\alpha \\left(- \\frac{\\beta^{2}}{4} - \\frac{\\gamma^{2}}{4}\\right)}{2} + \\frac{\\sqrt{- 4 \\left(\\alpha^{2} + \\frac{3 \\beta^{2}}{4} + \\frac{3 \\gamma^{2}}{4}\\right)^{3} + \\left(- 2 \\alpha^{3} + \\frac{27 \\alpha \\gamma^{2}}{4} + 9 \\alpha \\left(- \\frac{\\beta^{2}}{4} - \\frac{\\gamma^{2}}{4}\\right)\\right)^{2}}}{2}}}{3}\\right)^{2}}{\\beta \\gamma}\\\\\\frac{2 \\left(\\frac{\\alpha}{3} - \\frac{\\alpha^{2} + \\frac{3 \\beta^{2}}{4} + \\frac{3 \\gamma^{2}}{4}}{3 \\left(- \\frac{1}{2} + \\frac{\\sqrt{3} i}{2}\\right) \\sqrt[3]{- \\alpha^{3} + \\frac{27 \\alpha \\gamma^{2}}{8} + \\frac{9 \\alpha \\left(- \\frac{\\beta^{2}}{4} - \\frac{\\gamma^{2}}{4}\\right)}{2} + \\frac{\\sqrt{- 4 \\left(\\alpha^{2} + \\frac{3 \\beta^{2}}{4} + \\frac{3 \\gamma^{2}}{4}\\right)^{3} + \\left(- 2 \\alpha^{3} + \\frac{27 \\alpha \\gamma^{2}}{4} + 9 \\alpha \\left(- \\frac{\\beta^{2}}{4} - \\frac{\\gamma^{2}}{4}\\right)\\right)^{2}}}{2}}} - \\frac{\\left(- \\frac{1}{2} + \\frac{\\sqrt{3} i}{2}\\right) \\sqrt[3]{- \\alpha^{3} + \\frac{27 \\alpha \\gamma^{2}}{8} + \\frac{9 \\alpha \\left(- \\frac{\\beta^{2}}{4} - \\frac{\\gamma^{2}}{4}\\right)}{2} + \\frac{\\sqrt{- 4 \\left(\\alpha^{2} + \\frac{3 \\beta^{2}}{4} + \\frac{3 \\gamma^{2}}{4}\\right)^{3} + \\left(- 2 \\alpha^{3} + \\frac{27 \\alpha \\gamma^{2}}{4} + 9 \\alpha \\left(- \\frac{\\beta^{2}}{4} - \\frac{\\gamma^{2}}{4}\\right)\\right)^{2}}}{2}}}{3}\\right)}{\\gamma}\\\\1\\end{matrix}\\right]$"
      ],
      "text/plain": [
       "Matrix([\n",
       "[-\\gamma/\\beta + 4*(\\alpha/3 - (\\alpha**2 + 3*\\beta**2/4 + 3*\\gamma**2/4)/(3*(-1/2 + sqrt(3)*I/2)*(-\\alpha**3 + 27*\\alpha*\\gamma**2/8 + 9*\\alpha*(-\\beta**2/4 - \\gamma**2/4)/2 + sqrt(-4*(\\alpha**2 + 3*\\beta**2/4 + 3*\\gamma**2/4)**3 + (-2*\\alpha**3 + 27*\\alpha*\\gamma**2/4 + 9*\\alpha*(-\\beta**2/4 - \\gamma**2/4))**2)/2)**(1/3)) - (-1/2 + sqrt(3)*I/2)*(-\\alpha**3 + 27*\\alpha*\\gamma**2/8 + 9*\\alpha*(-\\beta**2/4 - \\gamma**2/4)/2 + sqrt(-4*(\\alpha**2 + 3*\\beta**2/4 + 3*\\gamma**2/4)**3 + (-2*\\alpha**3 + 27*\\alpha*\\gamma**2/4 + 9*\\alpha*(-\\beta**2/4 - \\gamma**2/4))**2)/2)**(1/3)/3)**2/(\\beta*\\gamma)],\n",
       "[                           2*(\\alpha/3 - (\\alpha**2 + 3*\\beta**2/4 + 3*\\gamma**2/4)/(3*(-1/2 + sqrt(3)*I/2)*(-\\alpha**3 + 27*\\alpha*\\gamma**2/8 + 9*\\alpha*(-\\beta**2/4 - \\gamma**2/4)/2 + sqrt(-4*(\\alpha**2 + 3*\\beta**2/4 + 3*\\gamma**2/4)**3 + (-2*\\alpha**3 + 27*\\alpha*\\gamma**2/4 + 9*\\alpha*(-\\beta**2/4 - \\gamma**2/4))**2)/2)**(1/3)) - (-1/2 + sqrt(3)*I/2)*(-\\alpha**3 + 27*\\alpha*\\gamma**2/8 + 9*\\alpha*(-\\beta**2/4 - \\gamma**2/4)/2 + sqrt(-4*(\\alpha**2 + 3*\\beta**2/4 + 3*\\gamma**2/4)**3 + (-2*\\alpha**3 + 27*\\alpha*\\gamma**2/4 + 9*\\alpha*(-\\beta**2/4 - \\gamma**2/4))**2)/2)**(1/3)/3)/\\gamma],\n",
       "[                                                                                                                                                                                                                                                                                                                                                                                                                                                                                                                                                                                                                  1]])"
      ]
     },
     "metadata": {},
     "output_type": "display_data"
    },
    {
     "data": {
      "text/latex": [
       "$\\displaystyle \\left[\\begin{matrix}\\frac{\\alpha}{3} & 0 & 0\\\\0 & \\frac{\\alpha}{3} & 0\\\\0 & 0 & \\frac{\\alpha}{3}\\end{matrix}\\right]$"
      ],
      "text/plain": [
       "Matrix([\n",
       "[\\alpha/3,        0,        0],\n",
       "[       0, \\alpha/3,        0],\n",
       "[       0,        0, \\alpha/3]])"
      ]
     },
     "metadata": {},
     "output_type": "display_data"
    },
    {
     "data": {
      "text/latex": [
       "$\\displaystyle \\left[\\begin{matrix}\\frac{2 \\alpha}{3} & \\frac{\\beta}{2} & 0\\\\\\frac{\\beta}{2} & - \\frac{\\alpha}{3} & \\frac{\\gamma}{2}\\\\0 & \\frac{\\gamma}{2} & - \\frac{\\alpha}{3}\\end{matrix}\\right]$"
      ],
      "text/plain": [
       "Matrix([\n",
       "[2*\\alpha/3,   \\beta/2,         0],\n",
       "[   \\beta/2, -\\alpha/3,  \\gamma/2],\n",
       "[         0,  \\gamma/2, -\\alpha/3]])"
      ]
     },
     "metadata": {},
     "output_type": "display_data"
    },
    {
     "data": {
      "text/latex": [
       "$\\displaystyle \\left[\\begin{matrix}0 & \\frac{\\beta}{2} & 0\\\\- \\frac{\\beta}{2} & 0 & \\frac{\\gamma}{2}\\\\0 & - \\frac{\\gamma}{2} & 0\\end{matrix}\\right]$"
      ],
      "text/plain": [
       "Matrix([\n",
       "[       0,   \\beta/2,        0],\n",
       "[-\\beta/2,         0, \\gamma/2],\n",
       "[       0, -\\gamma/2,        0]])"
      ]
     },
     "metadata": {},
     "output_type": "display_data"
    },
    {
     "data": {
      "text/latex": [
       "$\\displaystyle \\left[\\begin{matrix}\\frac{\\gamma}{2}\\\\0\\\\\\frac{\\beta}{2}\\end{matrix}\\right]$"
      ],
      "text/plain": [
       "Matrix([\n",
       "[\\gamma/2],\n",
       "[       0],\n",
       "[ \\beta/2]])"
      ]
     },
     "metadata": {},
     "output_type": "display_data"
    }
   ],
   "source": [
    "decomposition = dtools.complete_decomposition(deformation_tensor)\n",
    "\n",
    "# Display each calculated object of the decomposition\n",
    "for element in decomposition:\n",
    "\n",
    "    # Check for a list within the list of decomposition elements\n",
    "    if isinstance(element, list):\n",
    "\n",
    "        # Display each principal axis vector separately\n",
    "        for subelement in element:\n",
    "            display(subelement)\n",
    "    else:\n",
    "        display(element)"
   ]
  },
  {
   "cell_type": "markdown",
   "metadata": {},
   "source": [
    "Or, when substituting the numerical values for the parameters (in our example $\\alpha=\\gamma=4$ and $\\beta=0$), we get the following output:"
   ]
  },
  {
   "cell_type": "code",
   "execution_count": 13,
   "metadata": {},
   "outputs": [
    {
     "data": {
      "text/latex": [
       "$\\displaystyle \\left[\\begin{matrix}4 & 0 & 0\\\\0 & 0 & 2\\\\0 & 2 & 0\\end{matrix}\\right]$"
      ],
      "text/plain": [
       "Matrix([\n",
       "[4, 0, 0],\n",
       "[0, 0, 2],\n",
       "[0, 2, 0]])"
      ]
     },
     "metadata": {},
     "output_type": "display_data"
    },
    {
     "data": {
      "text/latex": [
       "$\\displaystyle \\left[\\begin{matrix}0\\\\-1\\\\1\\end{matrix}\\right]$"
      ],
      "text/plain": [
       "Matrix([\n",
       "[ 0],\n",
       "[-1],\n",
       "[ 1]])"
      ]
     },
     "metadata": {},
     "output_type": "display_data"
    },
    {
     "data": {
      "text/latex": [
       "$\\displaystyle \\left[\\begin{matrix}0\\\\1\\\\1\\end{matrix}\\right]$"
      ],
      "text/plain": [
       "Matrix([\n",
       "[0],\n",
       "[1],\n",
       "[1]])"
      ]
     },
     "metadata": {},
     "output_type": "display_data"
    },
    {
     "data": {
      "text/latex": [
       "$\\displaystyle \\left[\\begin{matrix}1\\\\0\\\\0\\end{matrix}\\right]$"
      ],
      "text/plain": [
       "Matrix([\n",
       "[1],\n",
       "[0],\n",
       "[0]])"
      ]
     },
     "metadata": {},
     "output_type": "display_data"
    },
    {
     "data": {
      "text/latex": [
       "$\\displaystyle \\left[\\begin{matrix}\\frac{4}{3} & 0 & 0\\\\0 & \\frac{4}{3} & 0\\\\0 & 0 & \\frac{4}{3}\\end{matrix}\\right]$"
      ],
      "text/plain": [
       "Matrix([\n",
       "[4/3,   0,   0],\n",
       "[  0, 4/3,   0],\n",
       "[  0,   0, 4/3]])"
      ]
     },
     "metadata": {},
     "output_type": "display_data"
    },
    {
     "data": {
      "text/latex": [
       "$\\displaystyle \\left[\\begin{matrix}\\frac{8}{3} & 0 & 0\\\\0 & - \\frac{4}{3} & 2\\\\0 & 2 & - \\frac{4}{3}\\end{matrix}\\right]$"
      ],
      "text/plain": [
       "Matrix([\n",
       "[8/3,    0,    0],\n",
       "[  0, -4/3,    2],\n",
       "[  0,    2, -4/3]])"
      ]
     },
     "metadata": {},
     "output_type": "display_data"
    },
    {
     "data": {
      "text/latex": [
       "$\\displaystyle \\left[\\begin{matrix}0 & 0 & 0\\\\0 & 0 & 2\\\\0 & -2 & 0\\end{matrix}\\right]$"
      ],
      "text/plain": [
       "Matrix([\n",
       "[0,  0, 0],\n",
       "[0,  0, 2],\n",
       "[0, -2, 0]])"
      ]
     },
     "metadata": {},
     "output_type": "display_data"
    },
    {
     "data": {
      "text/latex": [
       "$\\displaystyle \\left[\\begin{matrix}2\\\\0\\\\0\\end{matrix}\\right]$"
      ],
      "text/plain": [
       "Matrix([\n",
       "[2],\n",
       "[0],\n",
       "[0]])"
      ]
     },
     "metadata": {},
     "output_type": "display_data"
    }
   ],
   "source": [
    "num_decomposition = dtools.complete_decomposition(num_deformation_tensor)\n",
    "\n",
    "# Display each calculated object of the decomposition\n",
    "for num_element in num_decomposition:\n",
    "\n",
    "    # Check for a list within the list of decomposition elements\n",
    "    if isinstance(num_element, list):\n",
    "\n",
    "        # Display each principal axis vector separately\n",
    "        for num_subelement in num_element:\n",
    "            display(num_subelement)\n",
    "    else:\n",
    "        display(num_element)"
   ]
  }
 ],
 "metadata": {
  "kernelspec": {
   "display_name": "myenv",
   "language": "python",
   "name": "python3"
  },
  "language_info": {
   "codemirror_mode": {
    "name": "ipython",
    "version": 3
   },
   "file_extension": ".py",
   "mimetype": "text/x-python",
   "name": "python",
   "nbconvert_exporter": "python",
   "pygments_lexer": "ipython3",
   "version": "3.11.9"
  }
 },
 "nbformat": 4,
 "nbformat_minor": 4
}
